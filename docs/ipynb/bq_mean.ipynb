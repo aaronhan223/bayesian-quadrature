{
 "metadata": {
  "name": ""
 },
 "nbformat": 3,
 "nbformat_minor": 0,
 "worksheets": [
  {
   "cells": [
    {
     "cell_type": "markdown",
     "source": [
      "# Bayesian Quadrature: Mean Derivation"
     ]
    },
    {
     "cell_type": "markdown",
     "source": [
      "We have:\n",
      "\n",
      "$$\\mathbb{E}[Z]= \\int\\ell(x)p(x)\\ \\mathrm{d}x.$$"
     ]
    },
    {
     "cell_type": "markdown",
     "source": [
      "We approximate this as:\n",
      "\n",
      "$$\\mathbb{E}[Z]\\approx \\int \\bar{\\ell}(x)p(x)\\ \\mathrm{d}x,$$\n",
      "\n",
      "where the function $\\bar{\\ell}$ is the mean of the Gaussian process over $\\exp(\\log\\ell)$."
     ]
    },
    {
     "cell_type": "markdown",
     "source": [
      "We expand the first term to obtain:\n",
      "\n",
      "$$\n",
      "\\begin{align*}\n",
      "E[m_\\ell|x_s] &= \\int K_{\\exp(\\log\\ell)}(x,\\mathbf{x}_c)K_{\\exp(\\log\\ell)}(\\mathbf{x}_c,\\mathbf{x}_c)^{-1}\\bar{\\ell}(\\mathbf{x}_c)p(x)\\ \\mathrm{d}x\\\\\\\\\n",
      "&= \\left(\\int K_{\\exp(\\log\\ell)}(x,\\mathbf{x}_c)p(x)\\ \\mathrm{d}x\\right)\\ K_{\\exp(\\log\\ell)}(\\mathbf{x}_c,\\mathbf{x}_c)^{-1}\\bar{\\ell}(\\mathbf{x}_c)\\\\\\\\\n",
      "&= \\left(\\int K_{\\exp(\\log\\ell)}(x, \\mathbf{x}_c)p(x)\\ \\mathrm{d}x\\right)\\ \\alpha(\\mathbf{x}_c)\n",
      "\\end{align*}\n",
      "$$\n",
      "\n",
      "where $\\alpha(\\mathbf{x}_c) = K_{\\exp(\\log\\ell)}(\\mathbf{x}_c, \\mathbf{x}_c)^{-1}\\bar{\\ell}(\\mathbf{x}_c)$."
     ]
    },
    {
     "cell_type": "markdown",
     "source": [
      "Assuming $K_{\\exp(\\log\\ell)}$ is a Gaussian kernel, and $p(x)$ is a Gaussian\n",
      "density with mean $\\mu$ and covariance $\\Sigma$, the integral can be\n",
      "expressed analytically as follows, from [O13]_:\n",
      "\n",
      "$$\n",
      "\\begin{align*}\n",
      "\\int K_{\\exp(\\log\\ell)}(x, \\mathbf{x}_c)p(x)\\ \\mathrm{d}x&=\\int h_\\ell^2 \\mathcal{N}\\left(\\mathbf{x}_c\\ \\big\\vert\\  x, W_\\ell\\right)\\mathcal{N}\\left(x\\ \\big\\vert\\  \\mu, \\Sigma\\right)\\ \\mathrm{d}x\\\\\\\\\n",
      "&= h_\\ell^2 \\mathcal{N}\\left(\\mathbf{x}_c\\ \\big\\vert\\  \\mu, W_\\ell + \\Sigma\\right)\n",
      "\\end{align*}\n",
      "$$"
     ]
    }
   ]
  }
 ]
}