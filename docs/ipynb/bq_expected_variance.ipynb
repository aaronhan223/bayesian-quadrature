{
 "metadata": {
  "name": ""
 },
 "nbformat": 3,
 "nbformat_minor": 0,
 "worksheets": [
  {
   "cells": [
    {
     "cell_type": "markdown",
     "metadata": {},
     "source": [
      "# Bayesian Quadrature: Expected Variance"
     ]
    },
    {
     "cell_type": "markdown",
     "metadata": {},
     "source": [
      "The equation for the expected variance is given by Equation 13 of [OD12]_:\n",
      "\n",
      "$$\n",
      "\\begin{align*}\n",
      "E[V_Z|\\log\\ell_{s,a}] = S(Z\\ |\\ \\log\\ell_{s}) - \\int m(Z\\ |\\ \\log\\ell_{s,a})^2 \\mathcal{N}\\left( \\log\\ell_a \\ \\big\\vert\\ \\hat{m}_a, \\hat{C}_a\\right)\\ \\mathrm{d}\\log\\ell_a\n",
      "\\end{align*}\n",
      "$$"
     ]
    },
    {
     "cell_type": "markdown",
     "metadata": {},
     "source": [
      "From before, we have:\n",
      "\n",
      "$$\n",
      "\\begin{align*}\n",
      "m(Z\\ |\\ \\log\\ell_{s,a})&=E[m_\\ell|x_{s,a}]\\\\\\\\\n",
      "&= h_\\ell^2 \\mathcal{N}\\left(\\mathbf{x}_{c,a}\\ \\big\\vert\\  \\mu, W_\\ell + \\Sigma\\right)K_{\\exp(\\log\\ell)}(\\mathbf{x}_{c,a}, \\mathbf{x}_{c,a})^{-1}\\bar{\\ell}(\\mathbf{x}_{c,a})\n",
      "\\end{align*}\n",
      "$$"
     ]
    },
    {
     "cell_type": "markdown",
     "metadata": {},
     "source": [
      "For brevity, let:\n",
      "\n",
      "$$\n",
      "A_{c,a} = h_\\ell^2 \\mathcal{N}\\left(\\mathbf{x}_{c,a}\\ \\big\\vert\\  \\mu, W_\\ell + \\Sigma\\right)K_{\\exp(\\log\\ell)}(\\mathbf{x}_{c,a}, \\mathbf{x}_{c,a})^{-1}\n",
      "$$\n",
      "\n",
      "such that $m(Z\\ |\\ \\log\\ell_{s,a})=A_{c,a}\\bar{\\ell}(\\mathbf{x}_{c,a})$."
     ]
    },
    {
     "cell_type": "markdown",
     "metadata": {},
     "source": [
      "We have that $\\int\\exp(cy)\\mathcal{N}\\left( y \\ \\big\\vert\\ m, S \\right)=\\exp(cm + \\frac{1}{2}c^2 S)$, which allows us to marginalize out $\\bar{\\ell}_a$. Thus, we need to break apart $\\bar{\\ell}(\\mathbf{x}_{c,a})=[\\bar{\\ell}_c; \\bar{\\ell}_a]$, giving:\n",
      "\n",
      "$$\n",
      "\\begin{align*}\n",
      "m(Z\\ |\\ \\log\\ell_{s,a})^2 &= \\left([A_c, A_a][\\bar{\\ell}_c; \\bar{\\ell}_a]\\right)^2\\\\\\\\\n",
      "&= \\left( A_c\\bar{\\ell}_c + A_a\\bar{\\ell}_a \\right)^2\\\\\\\\\n",
      "&= (A_c\\bar{\\ell}_c)^2 + 2(A_c\\bar{\\ell}_c)(A_a\\bar{\\ell}_a) + (A_a\\bar{\\ell}_a)^2\n",
      "\\end{align*}\n",
      "$$"
     ]
    },
    {
     "cell_type": "markdown",
     "metadata": {},
     "source": [
      "Plugging this into the expected squared mean:\n",
      "\n",
      "$$\n",
      "\\begin{align*}\n",
      "E[m_Z^2|\\log\\ell_{s,a}] &= \\int m(Z\\ |\\ \\log\\ell_{s,a})^2 \\mathcal{N}\\left( \\log\\ell_a \\ \\big\\vert\\ \\hat{m}_a, \\hat{C}_a\\right)\\ \\mathrm{d}\\log\\ell_a\\\\\\\\\n",
      "&= (A_c\\bar{\\ell}_c)^2 + \\int \\left( 2(A_c\\bar{\\ell}_c)(A_a\\bar{\\ell}_a) + (A_a\\bar{\\ell}_a)^2 \\right)p(\\log\\ell_a) \\ \\mathrm{d}\\log\\ell_a\\\\\n",
      "&= (A_c\\bar{\\ell}_c)^2 + 2A_c\\bar{\\ell}_cA_a\\int \\bar{\\ell}_ap(\\log\\ell_a)\\ \\mathrm{d}\\log\\ell_a + A_a^2\\int \\bar{\\ell}_a^2 p(\\log\\ell_a) \\ \\mathrm{d}\\log\\ell_a\\\\\n",
      "&= (A_c\\bar{\\ell}_c)^2 + 2A_c\\bar{\\ell}_cA_a\\int \\exp(\\log\\ell_a)p(\\log\\ell_a)\\ \\mathrm{d}\\log\\ell_a + A_a^2\\int \\exp(2\n",
      "\\log\\ell_a) p(\\log\\ell_a) \\ \\mathrm{d}\\log\\ell_a\n",
      "\\end{align*}\n",
      "$$\n"
     ]
    },
    {
     "cell_type": "markdown",
     "metadata": {},
     "source": [
      "Using the identity $\\int\\exp(cy)\\mathcal{N}\\left( y \\ \\big\\vert\\ m, S \\right)=\\exp(cm + \\frac{1}{2}c^2 S)$, we have:\n",
      "\n",
      "$$\n",
      "E[m_Z^2|\\log\\ell_{s,a}] = A_c^2\\bar{\\ell}_c^2 + 2A_c\\bar{\\ell}_cA_a\\exp\\left(\\hat{m}_a + \\frac{1}{2}\\hat{C}_a\\right) + A_a^2\\exp\\left(2\\hat{m}_a + 2\\hat{C}_a\\right)\n",
      "$$"
     ]
    },
    {
     "cell_type": "markdown",
     "metadata": {},
     "source": [
      "Putting it all together, we obtain:\n",
      "\n",
      "$$\n",
      "\\begin{align*}\n",
      "E[V_Z|\\log\\ell_{s,a}] &= S(Z\\ |\\ \\log\\ell_{s}) - \\left( A_c^2\\bar{\\ell}_c^2 + 2A_c\\bar{\\ell}_cA_a\\exp\\left(\\hat{m}_a + \\frac{1}{2}\\hat{C}_a\\right) + A_a^2\\exp\\left(2\\hat{m}_a + 2\\hat{C}_a\\right)\\right)\\\\\\\\\n",
      "&= V_Z + m_Z^2 - \\left( A_c^2\\bar{\\ell}_c^2 + 2A_c\\bar{\\ell}_cA_a\\exp\\left(\\hat{m}_a + \\frac{1}{2}\\hat{C}_a\\right) + A_a^2\\exp\\left(2\\hat{m}_a + 2\\hat{C}_a\\right)\\right)\n",
      "\\end{align*}\n",
      "$$\n",
      "\n",
      "where $S(Z\\ |\\ \\log\\ell_s) = V_Z + m_Z^2$ from Equation 9 of [OD12]_."
     ]
    }
   ],
   "metadata": {}
  }
 ]
}